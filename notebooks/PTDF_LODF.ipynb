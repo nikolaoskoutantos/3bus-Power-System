{
 "cells": [
  {
   "cell_type": "markdown",
   "metadata": {},
   "source": [
    "## Packages import"
   ]
  },
  {
   "cell_type": "code",
   "execution_count": 7,
   "metadata": {},
   "outputs": [],
   "source": [
    "import pandapower as pp\n",
    "import pandapower.networks as nw\n",
    "from pandapower.pypower import makePTDF,makeLODF, makeYbus\n",
    "import pandapower.converter as pc\n",
    "from numba.core.errors import NumbaDeprecationWarning, NumbaPendingDeprecationWarning\n",
    "import warnings\n",
    "warnings.simplefilter('ignore', category=NumbaDeprecationWarning) # numba==0.58.1 > 0.59.0"
   ]
  },
  {
   "cell_type": "markdown",
   "metadata": {},
   "source": [
    "### Load the network from the `saved-topologies` in pandapower format"
   ]
  },
  {
   "cell_type": "code",
   "execution_count": 8,
   "metadata": {},
   "outputs": [
    {
     "data": {
      "text/plain": [
       "This pandapower network includes the following parameter tables:\n",
       "   - bus (3 element)\n",
       "   - load (3 element)\n",
       "   - gen (3 element)\n",
       "   - line (3 element)\n",
       "   - poly_cost (3 element)\n",
       " and the following results tables:\n",
       "   - res_bus (3 element)\n",
       "   - res_line (3 element)\n",
       "   - res_load (3 element)\n",
       "   - res_gen (3 element)\n",
       " and the following result values:\n",
       "   - res_cost"
      ]
     },
     "execution_count": 8,
     "metadata": {},
     "output_type": "execute_result"
    }
   ],
   "source": [
    "net = pp.from_json(\"../saved-topologies/3busNet.json\")\n",
    "net"
   ]
  },
  {
   "cell_type": "markdown",
   "metadata": {},
   "source": [
    "### Convert the pandapower Dataframe format to pypower (it is similar to the MATPOWER format in python)"
   ]
  },
  {
   "cell_type": "code",
   "execution_count": 9,
   "metadata": {},
   "outputs": [
    {
     "data": {
      "text/plain": [
       "{'baseMVA': 1,\n",
       " 'version': 2,\n",
       " 'bus': array([[  0.        ,   3.        , 100.        ,   0.        ,\n",
       "           0.        ,   0.        ,   1.        ,   1.        ,\n",
       "           0.        , 110.        ,   1.        ,   1.05      ,\n",
       "           0.95      ,   0.        ,   0.        ,   0.        ],\n",
       "        [  1.        ,   2.        ,  50.        ,   0.        ,\n",
       "           0.        ,   0.        ,   1.        ,   1.        ,\n",
       "           2.35016071, 110.        ,   1.        ,   1.05      ,\n",
       "           0.95      ,   0.        ,   0.        ,   0.        ],\n",
       "        [  2.        ,   2.        ,  30.        ,   0.        ,\n",
       "           0.        ,   0.        ,   1.        ,   1.        ,\n",
       "           2.35217641, 110.        ,   1.        ,   1.05      ,\n",
       "           0.95      ,   0.        ,   0.        ,   0.        ]]),\n",
       " 'branch': array([[ 0.00000000e+00,  1.00000000e+00,  8.01652893e-04,\n",
       "          1.69421488e-03,  1.66308061e+00,  0.00000000e+00,\n",
       "          2.50000000e+02,  2.50000000e+02,  1.00000000e+00,\n",
       "          0.00000000e+00,  1.00000000e+00, -3.60000000e+02,\n",
       "          3.60000000e+02,  0.00000000e+00,  0.00000000e+00,\n",
       "          0.00000000e+00,  0.00000000e+00,  0.00000000e+00,\n",
       "          0.00000000e+00,  0.00000000e+00,  0.00000000e+00,\n",
       "          0.00000000e+00,  0.00000000e+00],\n",
       "        [ 1.00000000e+00,  2.00000000e+00,  4.80991736e-04,\n",
       "          1.01652893e-03,  9.97848367e-01,  0.00000000e+00,\n",
       "          2.50000000e+02,  2.50000000e+02,  1.00000000e+00,\n",
       "          0.00000000e+00,  1.00000000e+00, -3.60000000e+02,\n",
       "          3.60000000e+02,  0.00000000e+00,  0.00000000e+00,\n",
       "          0.00000000e+00,  0.00000000e+00,  0.00000000e+00,\n",
       "          0.00000000e+00,  0.00000000e+00,  0.00000000e+00,\n",
       "          0.00000000e+00,  0.00000000e+00],\n",
       "        [ 2.00000000e+00,  0.00000000e+00,  3.20661157e-04,\n",
       "          6.77685950e-04,  6.65232244e-01,  0.00000000e+00,\n",
       "          2.50000000e+02,  2.50000000e+02,  1.00000000e+00,\n",
       "          0.00000000e+00,  1.00000000e+00, -3.60000000e+02,\n",
       "          3.60000000e+02,  0.00000000e+00,  0.00000000e+00,\n",
       "          0.00000000e+00,  0.00000000e+00,  0.00000000e+00,\n",
       "          0.00000000e+00,  0.00000000e+00,  0.00000000e+00,\n",
       "          0.00000000e+00,  0.00000000e+00]]),\n",
       " 'tcsc': array([], shape=(0, 17), dtype=float64),\n",
       " 'svc': array([], shape=(0, 11), dtype=float64),\n",
       " 'gen': array([[ 0.0e+00,  2.0e+02,  0.0e+00,  1.0e+09, -1.0e+09,  1.0e+00,\n",
       "              nan,  1.0e+00,  3.0e+02,  1.0e+01,  0.0e+00,  0.0e+00,\n",
       "          0.0e+00,  0.0e+00,  0.0e+00,  0.0e+00,  0.0e+00,  0.0e+00,\n",
       "          0.0e+00,  0.0e+00,  0.0e+00,  0.0e+00,  0.0e+00,  0.0e+00,\n",
       "          0.0e+00,  0.0e+00],\n",
       "        [ 1.0e+00,  0.0e+00,  0.0e+00,  1.0e+09, -1.0e+09,  1.0e+00,\n",
       "              nan,  1.0e+00,  3.0e+02,  1.5e+01,  0.0e+00,  0.0e+00,\n",
       "          0.0e+00,  0.0e+00,  0.0e+00,  0.0e+00,  0.0e+00,  0.0e+00,\n",
       "          0.0e+00,  0.0e+00,  0.0e+00,  0.0e+00,  0.0e+00,  0.0e+00,\n",
       "          0.0e+00,  0.0e+00],\n",
       "        [ 2.0e+00,  0.0e+00,  0.0e+00,  1.0e+09, -1.0e+09,  1.0e+00,\n",
       "              nan,  1.0e+00,  3.0e+02,  1.0e+01,  0.0e+00,  0.0e+00,\n",
       "          0.0e+00,  0.0e+00,  0.0e+00,  0.0e+00,  0.0e+00,  0.0e+00,\n",
       "          0.0e+00,  0.0e+00,  0.0e+00,  0.0e+00,  0.0e+00,  0.0e+00,\n",
       "          0.0e+00,  0.0e+00]]),\n",
       " 'internal': {'Ybus': array([], dtype=complex128),\n",
       "  'Yf': array([], dtype=complex128),\n",
       "  'Yt': array([], dtype=complex128),\n",
       "  'branch_is': array([ True,  True,  True]),\n",
       "  'gen_is': array([ True,  True,  True]),\n",
       "  'DLF': array([], dtype=complex128),\n",
       "  'buses_ord_bfs_nets': array([], dtype=float64),\n",
       "  'svc_is': array([], dtype=bool),\n",
       "  'tcsc_is': array([], dtype=bool),\n",
       "  'ref_gens': array([0], dtype=int64)},\n",
       " 'gencost': array([[ 2.   ,  0.   ,  0.   ,  2.   , 50.   ,  0.   ],\n",
       "        [ 2.   ,  0.   ,  0.   ,  2.   , 30.   ,  0.   ],\n",
       "        [ 2.   ,  0.   ,  0.   ,  2.   , 29.999,  0.   ]])}"
      ]
     },
     "execution_count": 9,
     "metadata": {},
     "output_type": "execute_result"
    }
   ],
   "source": [
    "ppc = pc.to_ppc(net)\n",
    "ppc"
   ]
  },
  {
   "cell_type": "markdown",
   "metadata": {},
   "source": [
    "### Compute the PTDF matrix with the usage of built in functions"
   ]
  },
  {
   "cell_type": "code",
   "execution_count": 13,
   "metadata": {},
   "outputs": [
    {
     "data": {
      "text/plain": [
       "array([[ 0. , -0.5, -0.2],\n",
       "       [ 0. ,  0.5, -0.2],\n",
       "       [ 0. ,  0.5,  0.8]])"
      ]
     },
     "execution_count": 13,
     "metadata": {},
     "output_type": "execute_result"
    }
   ],
   "source": [
    "ptdf = makePTDF.makePTDF(300, ppc['bus'], ppc['branch'],0)\n",
    "ptdf"
   ]
  },
  {
   "cell_type": "markdown",
   "metadata": {},
   "source": [
    "### Compute the LODF matrix"
   ]
  },
  {
   "cell_type": "code",
   "execution_count": 11,
   "metadata": {},
   "outputs": [
    {
     "data": {
      "text/plain": [
       "array([[-1., -1., -1.],\n",
       "       [-1., -1., -1.],\n",
       "       [-1., -1., -1.]])"
      ]
     },
     "execution_count": 11,
     "metadata": {},
     "output_type": "execute_result"
    }
   ],
   "source": [
    "lodf = makeLODF.makeLODF(ppc['branch'], ptdf)\n",
    "lodf"
   ]
  }
 ],
 "metadata": {
  "kernelspec": {
   "display_name": "Python 3",
   "language": "python",
   "name": "python3"
  },
  "language_info": {
   "codemirror_mode": {
    "name": "ipython",
    "version": 3
   },
   "file_extension": ".py",
   "mimetype": "text/x-python",
   "name": "python",
   "nbconvert_exporter": "python",
   "pygments_lexer": "ipython3",
   "version": "3.8.10"
  }
 },
 "nbformat": 4,
 "nbformat_minor": 2
}
