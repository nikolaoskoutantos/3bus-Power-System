{
 "cells": [
  {
   "cell_type": "markdown",
   "metadata": {},
   "source": [
    "# Economic Dispatch \n",
    "### Solution for the minimization of the operation costs of the 3-bus grid (without losses)\n",
    "#### The cost function of each generator is a linear term without startup costs."
   ]
  },
  {
   "cell_type": "code",
   "execution_count": 57,
   "metadata": {},
   "outputs": [
    {
     "name": "stdout",
     "output_type": "stream",
     "text": [
      "Optimal values:\n",
      "x = 10.0\n",
      "y = 79.99821169912758\n",
      "z = 90.00178830087347\n",
      "Optimal L value: -5599.90999821173\n"
     ]
    }
   ],
   "source": [
    "from scipy.optimize import minimize\n",
    "\n",
    "# Objective function (negative of L to convert minimization to maximization)\n",
    "def objective(variables):\n",
    "    x, y, z = variables\n",
    "    return (50*x + 30*y + 29.999*z)\n",
    "\n",
    "# Constraint function (equality constraint for x + y + z = 180)\n",
    "def constraint(variables):\n",
    "    x, y, z = variables\n",
    "    return x + y + z - 180\n",
    "\n",
    "# Variable bounds\n",
    "bounds = [(10, 300), (15, 300), (10, 300)]\n",
    "\n",
    "# Equality constraint\n",
    "cons = {'type': 'eq', 'fun': constraint}\n",
    "\n",
    "# Initial guess\n",
    "initial_guess = [50, 60, 70]\n",
    "\n",
    "# Solve the optimization problem\n",
    "result = minimize(objective, initial_guess, method='SLSQP', bounds=bounds, constraints=cons)\n",
    "\n",
    "# Display the result\n",
    "optimal_values = result.x\n",
    "optimal_L_value = -result.fun\n",
    "print(\"Optimal values:\")\n",
    "print(\"x =\", optimal_values[0])\n",
    "print(\"y =\", optimal_values[1])\n",
    "print(\"z =\", optimal_values[2])\n",
    "print(\"Optimal L value:\", optimal_L_value)\n"
   ]
  },
  {
   "cell_type": "markdown",
   "metadata": {},
   "source": [
    "<hr>\n",
    "\n",
    "# Euler Langrange Multipliers \n",
    "### Computation of the economic dispatch with vanilla mathematics of 3 generators with quadratic cost functions"
   ]
  },
  {
   "cell_type": "code",
   "execution_count": 11,
   "metadata": {},
   "outputs": [
    {
     "name": "stdout",
     "output_type": "stream",
     "text": [
      "Minimum Point (x, y, z): 41.2578367875648 68.7797279792746 69.9624352331606\n",
      "Lambda: 4128.78367875648\n"
     ]
    }
   ],
   "source": [
    "from sympy import symbols, Eq, solve\n",
    "\n",
    "# Define the variables\n",
    "x, y, z, lam = symbols('x y z lam')\n",
    "\n",
    "# Define the objective function and constraint\n",
    "L = 50*x**2 + 3*x + 20 + 30*y**2 + 2*y + 15 + 29.5*z**2 + z + 6\n",
    "constraint = Eq(x + y + z, 180)\n",
    "\n",
    "# Define the Lagrangian for minimization\n",
    "lagrangian = L + lam * (180 - x - y - z)\n",
    "\n",
    "# Find critical points by setting partial derivatives to zero\n",
    "partial_x = lagrangian.diff(x)\n",
    "partial_y = lagrangian.diff(y)\n",
    "partial_z = lagrangian.diff(z)\n",
    "partial_lambda = lagrangian.diff(lam)\n",
    "\n",
    "# Solve the system of equations\n",
    "solution = solve([partial_x, partial_y, partial_z, partial_lambda, constraint], (x, y, z, lam))\n",
    "\n",
    "# Display the solution\n",
    "print(\"Minimum Point (x, y, z):\", solution[x], solution[y], solution[z])\n",
    "print(\"Lambda:\", solution[lam])\n"
   ]
  }
 ],
 "metadata": {
  "kernelspec": {
   "display_name": "Python 3",
   "language": "python",
   "name": "python3"
  },
  "language_info": {
   "codemirror_mode": {
    "name": "ipython",
    "version": 3
   },
   "file_extension": ".py",
   "mimetype": "text/x-python",
   "name": "python",
   "nbconvert_exporter": "python",
   "pygments_lexer": "ipython3",
   "version": "3.8.10"
  }
 },
 "nbformat": 4,
 "nbformat_minor": 2
}
